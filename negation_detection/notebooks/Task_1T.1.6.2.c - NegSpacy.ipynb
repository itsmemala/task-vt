{
 "cells": [
  {
   "cell_type": "code",
   "execution_count": 1,
   "metadata": {
    "_cell_guid": "b1076dfc-b9ad-4769-8c92-a6c4dae69d19",
    "_uuid": "8f2839f25d086af736a60e9eeb907d3b93b6e0e5",
    "collapsed": true
   },
   "outputs": [
    {
     "name": "stdout",
     "output_type": "stream",
     "text": [
      "Collecting negspacy\n",
      "  Downloading negspacy-0.1.7.tar.gz (7.8 kB)\n",
      "Requirement already satisfied: spacy>=2.1.8 in /opt/conda/lib/python3.6/site-packages (from negspacy) (2.2.3)\n",
      "Requirement already satisfied: numpy>=1.15.0 in /opt/conda/lib/python3.6/site-packages (from spacy>=2.1.8->negspacy) (1.18.2)\n",
      "Requirement already satisfied: setuptools in /opt/conda/lib/python3.6/site-packages (from spacy>=2.1.8->negspacy) (46.1.3.post20200330)\n",
      "Requirement already satisfied: wasabi<1.1.0,>=0.4.0 in /opt/conda/lib/python3.6/site-packages (from spacy>=2.1.8->negspacy) (0.6.0)\n",
      "Requirement already satisfied: cymem<2.1.0,>=2.0.2 in /opt/conda/lib/python3.6/site-packages (from spacy>=2.1.8->negspacy) (2.0.3)\n",
      "Requirement already satisfied: preshed<3.1.0,>=3.0.2 in /opt/conda/lib/python3.6/site-packages (from spacy>=2.1.8->negspacy) (3.0.2)\n",
      "Requirement already satisfied: requests<3.0.0,>=2.13.0 in /opt/conda/lib/python3.6/site-packages (from spacy>=2.1.8->negspacy) (2.22.0)\n",
      "Requirement already satisfied: blis<0.5.0,>=0.4.0 in /opt/conda/lib/python3.6/site-packages (from spacy>=2.1.8->negspacy) (0.4.1)\n",
      "Requirement already satisfied: murmurhash<1.1.0,>=0.28.0 in /opt/conda/lib/python3.6/site-packages (from spacy>=2.1.8->negspacy) (1.0.2)\n",
      "Requirement already satisfied: srsly<1.1.0,>=0.1.0 in /opt/conda/lib/python3.6/site-packages (from spacy>=2.1.8->negspacy) (1.0.2)\n",
      "Requirement already satisfied: plac<1.2.0,>=0.9.6 in /opt/conda/lib/python3.6/site-packages (from spacy>=2.1.8->negspacy) (0.9.6)\n",
      "Requirement already satisfied: thinc<7.4.0,>=7.3.0 in /opt/conda/lib/python3.6/site-packages (from spacy>=2.1.8->negspacy) (7.3.1)\n",
      "Requirement already satisfied: catalogue<1.1.0,>=0.0.7 in /opt/conda/lib/python3.6/site-packages (from spacy>=2.1.8->negspacy) (1.0.0)\n",
      "Requirement already satisfied: certifi>=2017.4.17 in /opt/conda/lib/python3.6/site-packages (from requests<3.0.0,>=2.13.0->spacy>=2.1.8->negspacy) (2019.11.28)\n",
      "Requirement already satisfied: urllib3!=1.25.0,!=1.25.1,<1.26,>=1.21.1 in /opt/conda/lib/python3.6/site-packages (from requests<3.0.0,>=2.13.0->spacy>=2.1.8->negspacy) (1.24.3)\n",
      "Requirement already satisfied: chardet<3.1.0,>=3.0.2 in /opt/conda/lib/python3.6/site-packages (from requests<3.0.0,>=2.13.0->spacy>=2.1.8->negspacy) (3.0.4)\n",
      "Requirement already satisfied: idna<2.9,>=2.5 in /opt/conda/lib/python3.6/site-packages (from requests<3.0.0,>=2.13.0->spacy>=2.1.8->negspacy) (2.8)\n",
      "Requirement already satisfied: tqdm<5.0.0,>=4.10.0 in /opt/conda/lib/python3.6/site-packages (from thinc<7.4.0,>=7.3.0->spacy>=2.1.8->negspacy) (4.42.0)\n",
      "Requirement already satisfied: importlib-metadata>=0.20; python_version < \"3.8\" in /opt/conda/lib/python3.6/site-packages (from catalogue<1.1.0,>=0.0.7->spacy>=2.1.8->negspacy) (1.5.0)\n",
      "Requirement already satisfied: zipp>=0.5 in /opt/conda/lib/python3.6/site-packages (from importlib-metadata>=0.20; python_version < \"3.8\"->catalogue<1.1.0,>=0.0.7->spacy>=2.1.8->negspacy) (2.2.0)\n",
      "Building wheels for collected packages: negspacy\n",
      "  Building wheel for negspacy (setup.py) ... \u001b[?25ldone\n",
      "\u001b[?25h  Created wheel for negspacy: filename=negspacy-0.1.7-py3-none-any.whl size=8052 sha256=4c315b70a363373655a2a30bc112e33ed03f134c18196f5dad25129936f2ac73\n",
      "  Stored in directory: /root/.cache/pip/wheels/e5/9b/5b/d34aca7b1932ef16bb3fe284383b549d887880511ec5dcd769\n",
      "Successfully built negspacy\n",
      "Installing collected packages: negspacy\n",
      "Successfully installed negspacy-0.1.7\n",
      "Collecting scispacy\n",
      "  Downloading scispacy-0.2.4.tar.gz (38 kB)\n",
      "Requirement already satisfied: spacy>=2.2.1 in /opt/conda/lib/python3.6/site-packages (from scispacy) (2.2.3)\n",
      "Collecting awscli\n",
      "  Downloading awscli-1.18.39-py2.py3-none-any.whl (3.0 MB)\n",
      "\u001b[K     |████████████████████████████████| 3.0 MB 3.0 MB/s eta 0:00:01\n",
      "\u001b[?25hRequirement already satisfied: conllu in /opt/conda/lib/python3.6/site-packages (from scispacy) (1.3.1)\n",
      "Requirement already satisfied: numpy in /opt/conda/lib/python3.6/site-packages (from scispacy) (1.18.2)\n",
      "Requirement already satisfied: joblib in /opt/conda/lib/python3.6/site-packages (from scispacy) (0.14.1)\n",
      "Collecting nmslib>=1.7.3.6\n",
      "  Downloading nmslib-2.0.5-cp36-cp36m-manylinux2010_x86_64.whl (12.9 MB)\n",
      "\u001b[K     |████████████████████████████████| 12.9 MB 12.0 MB/s eta 0:00:01\n",
      "\u001b[?25hRequirement already satisfied: scikit-learn>=0.20.3 in /opt/conda/lib/python3.6/site-packages (from scispacy) (0.22.2.post1)\n",
      "Collecting pysbd\n",
      "  Downloading pysbd-0.2.3-py3-none-any.whl (24 kB)\n",
      "Requirement already satisfied: plac<1.2.0,>=0.9.6 in /opt/conda/lib/python3.6/site-packages (from spacy>=2.2.1->scispacy) (0.9.6)\n",
      "Requirement already satisfied: requests<3.0.0,>=2.13.0 in /opt/conda/lib/python3.6/site-packages (from spacy>=2.2.1->scispacy) (2.22.0)\n",
      "Requirement already satisfied: catalogue<1.1.0,>=0.0.7 in /opt/conda/lib/python3.6/site-packages (from spacy>=2.2.1->scispacy) (1.0.0)\n",
      "Requirement already satisfied: preshed<3.1.0,>=3.0.2 in /opt/conda/lib/python3.6/site-packages (from spacy>=2.2.1->scispacy) (3.0.2)\n",
      "Requirement already satisfied: thinc<7.4.0,>=7.3.0 in /opt/conda/lib/python3.6/site-packages (from spacy>=2.2.1->scispacy) (7.3.1)\n",
      "Requirement already satisfied: murmurhash<1.1.0,>=0.28.0 in /opt/conda/lib/python3.6/site-packages (from spacy>=2.2.1->scispacy) (1.0.2)\n",
      "Requirement already satisfied: setuptools in /opt/conda/lib/python3.6/site-packages (from spacy>=2.2.1->scispacy) (46.1.3.post20200330)\n",
      "Requirement already satisfied: blis<0.5.0,>=0.4.0 in /opt/conda/lib/python3.6/site-packages (from spacy>=2.2.1->scispacy) (0.4.1)\n",
      "Requirement already satisfied: wasabi<1.1.0,>=0.4.0 in /opt/conda/lib/python3.6/site-packages (from spacy>=2.2.1->scispacy) (0.6.0)\n",
      "Requirement already satisfied: srsly<1.1.0,>=0.1.0 in /opt/conda/lib/python3.6/site-packages (from spacy>=2.2.1->scispacy) (1.0.2)\n",
      "Requirement already satisfied: cymem<2.1.0,>=2.0.2 in /opt/conda/lib/python3.6/site-packages (from spacy>=2.2.1->scispacy) (2.0.3)\n",
      "Requirement already satisfied: s3transfer<0.4.0,>=0.3.0 in /opt/conda/lib/python3.6/site-packages (from awscli->scispacy) (0.3.3)\n",
      "Collecting rsa<=3.5.0,>=3.1.2\n",
      "  Downloading rsa-3.4.2-py2.py3-none-any.whl (46 kB)\n",
      "\u001b[K     |████████████████████████████████| 46 kB 2.8 MB/s  eta 0:00:01\n",
      "\u001b[?25hRequirement already satisfied: colorama<0.4.4,>=0.2.5; python_version != \"3.4\" in /opt/conda/lib/python3.6/site-packages (from awscli->scispacy) (0.4.3)\n",
      "Collecting botocore==1.15.39\n",
      "  Downloading botocore-1.15.39-py2.py3-none-any.whl (6.1 MB)\n",
      "\u001b[K     |████████████████████████████████| 6.1 MB 46.1 MB/s eta 0:00:01\n",
      "\u001b[?25hRequirement already satisfied: docutils<0.16,>=0.10 in /opt/conda/lib/python3.6/site-packages (from awscli->scispacy) (0.15.2)\n",
      "Requirement already satisfied: PyYAML<5.4,>=3.10; python_version != \"3.4\" in /opt/conda/lib/python3.6/site-packages (from awscli->scispacy) (5.3.1)\n",
      "Requirement already satisfied: psutil in /opt/conda/lib/python3.6/site-packages (from nmslib>=1.7.3.6->scispacy) (5.7.0)\n",
      "Requirement already satisfied: pybind11>=2.2.3 in /opt/conda/lib/python3.6/site-packages (from nmslib>=1.7.3.6->scispacy) (2.4.3)\n",
      "Requirement already satisfied: scipy>=0.17.0 in /opt/conda/lib/python3.6/site-packages (from scikit-learn>=0.20.3->scispacy) (1.4.1)\n",
      "Requirement already satisfied: certifi>=2017.4.17 in /opt/conda/lib/python3.6/site-packages (from requests<3.0.0,>=2.13.0->spacy>=2.2.1->scispacy) (2019.11.28)\n",
      "Requirement already satisfied: urllib3!=1.25.0,!=1.25.1,<1.26,>=1.21.1 in /opt/conda/lib/python3.6/site-packages (from requests<3.0.0,>=2.13.0->spacy>=2.2.1->scispacy) (1.24.3)\n",
      "Requirement already satisfied: chardet<3.1.0,>=3.0.2 in /opt/conda/lib/python3.6/site-packages (from requests<3.0.0,>=2.13.0->spacy>=2.2.1->scispacy) (3.0.4)\n",
      "Requirement already satisfied: idna<2.9,>=2.5 in /opt/conda/lib/python3.6/site-packages (from requests<3.0.0,>=2.13.0->spacy>=2.2.1->scispacy) (2.8)\n",
      "Requirement already satisfied: importlib-metadata>=0.20; python_version < \"3.8\" in /opt/conda/lib/python3.6/site-packages (from catalogue<1.1.0,>=0.0.7->spacy>=2.2.1->scispacy) (1.5.0)\n",
      "Requirement already satisfied: tqdm<5.0.0,>=4.10.0 in /opt/conda/lib/python3.6/site-packages (from thinc<7.4.0,>=7.3.0->spacy>=2.2.1->scispacy) (4.42.0)\n",
      "Requirement already satisfied: pyasn1>=0.1.3 in /opt/conda/lib/python3.6/site-packages (from rsa<=3.5.0,>=3.1.2->awscli->scispacy) (0.4.8)\n",
      "Requirement already satisfied: jmespath<1.0.0,>=0.7.1 in /opt/conda/lib/python3.6/site-packages (from botocore==1.15.39->awscli->scispacy) (0.9.5)\n",
      "Requirement already satisfied: python-dateutil<3.0.0,>=2.1 in /opt/conda/lib/python3.6/site-packages (from botocore==1.15.39->awscli->scispacy) (2.8.1)\n",
      "Requirement already satisfied: zipp>=0.5 in /opt/conda/lib/python3.6/site-packages (from importlib-metadata>=0.20; python_version < \"3.8\"->catalogue<1.1.0,>=0.0.7->spacy>=2.2.1->scispacy) (2.2.0)\n",
      "Requirement already satisfied: six>=1.5 in /opt/conda/lib/python3.6/site-packages (from python-dateutil<3.0.0,>=2.1->botocore==1.15.39->awscli->scispacy) (1.14.0)\n",
      "Building wheels for collected packages: scispacy\n"
     ]
    },
    {
     "name": "stdout",
     "output_type": "stream",
     "text": [
      "  Building wheel for scispacy (setup.py) ... \u001b[?25ldone\n",
      "\u001b[?25h  Created wheel for scispacy: filename=scispacy-0.2.4-py3-none-any.whl size=35203 sha256=d3c670079d8a5ab30dd519ae7ca559d89b3f3e35b1a8c7a13bee3742f9cf78dd\n",
      "  Stored in directory: /root/.cache/pip/wheels/80/01/69/37a2ab4f9b61773c187d83257ffb31365a5ad57e7779ae5e92\n",
      "Successfully built scispacy\n",
      "\u001b[31mERROR: allennlp 0.9.0 has requirement spacy<2.2,>=2.1.0, but you'll have spacy 2.2.3 which is incompatible.\u001b[0m\n",
      "Installing collected packages: rsa, botocore, awscli, nmslib, pysbd, scispacy\n",
      "  Attempting uninstall: rsa\n",
      "    Found existing installation: rsa 4.0\n",
      "    Uninstalling rsa-4.0:\n",
      "      Successfully uninstalled rsa-4.0\n",
      "  Attempting uninstall: botocore\n",
      "    Found existing installation: botocore 1.15.32\n",
      "    Uninstalling botocore-1.15.32:\n",
      "      Successfully uninstalled botocore-1.15.32\n",
      "Successfully installed awscli-1.18.39 botocore-1.15.39 nmslib-2.0.5 pysbd-0.2.3 rsa-3.4.2 scispacy-0.2.4\n",
      "Collecting https://s3-us-west-2.amazonaws.com/ai2-s2-scispacy/releases/v0.2.4/en_ner_bc5cdr_md-0.2.4.tar.gz\n",
      "  Downloading https://s3-us-west-2.amazonaws.com/ai2-s2-scispacy/releases/v0.2.4/en_ner_bc5cdr_md-0.2.4.tar.gz (70.1 MB)\n",
      "\u001b[K     |████████████████████████████████| 70.1 MB 113 kB/s eta 0:00:01\n",
      "\u001b[?25hRequirement already satisfied: spacy>=2.2.1 in /opt/conda/lib/python3.6/site-packages (from en-ner-bc5cdr-md==0.2.4) (2.2.3)\n",
      "Requirement already satisfied: plac<1.2.0,>=0.9.6 in /opt/conda/lib/python3.6/site-packages (from spacy>=2.2.1->en-ner-bc5cdr-md==0.2.4) (0.9.6)\n",
      "Requirement already satisfied: cymem<2.1.0,>=2.0.2 in /opt/conda/lib/python3.6/site-packages (from spacy>=2.2.1->en-ner-bc5cdr-md==0.2.4) (2.0.3)\n",
      "Requirement already satisfied: blis<0.5.0,>=0.4.0 in /opt/conda/lib/python3.6/site-packages (from spacy>=2.2.1->en-ner-bc5cdr-md==0.2.4) (0.4.1)\n",
      "Requirement already satisfied: murmurhash<1.1.0,>=0.28.0 in /opt/conda/lib/python3.6/site-packages (from spacy>=2.2.1->en-ner-bc5cdr-md==0.2.4) (1.0.2)\n",
      "Requirement already satisfied: srsly<1.1.0,>=0.1.0 in /opt/conda/lib/python3.6/site-packages (from spacy>=2.2.1->en-ner-bc5cdr-md==0.2.4) (1.0.2)\n",
      "Requirement already satisfied: thinc<7.4.0,>=7.3.0 in /opt/conda/lib/python3.6/site-packages (from spacy>=2.2.1->en-ner-bc5cdr-md==0.2.4) (7.3.1)\n",
      "Requirement already satisfied: preshed<3.1.0,>=3.0.2 in /opt/conda/lib/python3.6/site-packages (from spacy>=2.2.1->en-ner-bc5cdr-md==0.2.4) (3.0.2)\n",
      "Requirement already satisfied: numpy>=1.15.0 in /opt/conda/lib/python3.6/site-packages (from spacy>=2.2.1->en-ner-bc5cdr-md==0.2.4) (1.18.2)\n",
      "Requirement already satisfied: requests<3.0.0,>=2.13.0 in /opt/conda/lib/python3.6/site-packages (from spacy>=2.2.1->en-ner-bc5cdr-md==0.2.4) (2.22.0)\n",
      "Requirement already satisfied: wasabi<1.1.0,>=0.4.0 in /opt/conda/lib/python3.6/site-packages (from spacy>=2.2.1->en-ner-bc5cdr-md==0.2.4) (0.6.0)\n",
      "Requirement already satisfied: setuptools in /opt/conda/lib/python3.6/site-packages (from spacy>=2.2.1->en-ner-bc5cdr-md==0.2.4) (46.1.3.post20200330)\n",
      "Requirement already satisfied: catalogue<1.1.0,>=0.0.7 in /opt/conda/lib/python3.6/site-packages (from spacy>=2.2.1->en-ner-bc5cdr-md==0.2.4) (1.0.0)\n",
      "Requirement already satisfied: tqdm<5.0.0,>=4.10.0 in /opt/conda/lib/python3.6/site-packages (from thinc<7.4.0,>=7.3.0->spacy>=2.2.1->en-ner-bc5cdr-md==0.2.4) (4.42.0)\n",
      "Requirement already satisfied: urllib3!=1.25.0,!=1.25.1,<1.26,>=1.21.1 in /opt/conda/lib/python3.6/site-packages (from requests<3.0.0,>=2.13.0->spacy>=2.2.1->en-ner-bc5cdr-md==0.2.4) (1.24.3)\n",
      "Requirement already satisfied: chardet<3.1.0,>=3.0.2 in /opt/conda/lib/python3.6/site-packages (from requests<3.0.0,>=2.13.0->spacy>=2.2.1->en-ner-bc5cdr-md==0.2.4) (3.0.4)\n",
      "Requirement already satisfied: certifi>=2017.4.17 in /opt/conda/lib/python3.6/site-packages (from requests<3.0.0,>=2.13.0->spacy>=2.2.1->en-ner-bc5cdr-md==0.2.4) (2019.11.28)\n",
      "Requirement already satisfied: idna<2.9,>=2.5 in /opt/conda/lib/python3.6/site-packages (from requests<3.0.0,>=2.13.0->spacy>=2.2.1->en-ner-bc5cdr-md==0.2.4) (2.8)\n",
      "Requirement already satisfied: importlib-metadata>=0.20; python_version < \"3.8\" in /opt/conda/lib/python3.6/site-packages (from catalogue<1.1.0,>=0.0.7->spacy>=2.2.1->en-ner-bc5cdr-md==0.2.4) (1.5.0)\n",
      "Requirement already satisfied: zipp>=0.5 in /opt/conda/lib/python3.6/site-packages (from importlib-metadata>=0.20; python_version < \"3.8\"->catalogue<1.1.0,>=0.0.7->spacy>=2.2.1->en-ner-bc5cdr-md==0.2.4) (2.2.0)\n",
      "Building wheels for collected packages: en-ner-bc5cdr-md\n",
      "  Building wheel for en-ner-bc5cdr-md (setup.py) ... \u001b[?25ldone\n",
      "\u001b[?25h  Created wheel for en-ner-bc5cdr-md: filename=en_ner_bc5cdr_md-0.2.4-py3-none-any.whl size=70531464 sha256=7e41da6a27a951e3b317faf0499cd74cbc436a5349f2add6a0568874c4e411cd\n",
      "  Stored in directory: /root/.cache/pip/wheels/ef/46/ab/a7c167cf18e10044e58be349e252c93e07eec2760d8c1d93ef\n",
      "Successfully built en-ner-bc5cdr-md\n",
      "Installing collected packages: en-ner-bc5cdr-md\n",
      "Successfully installed en-ner-bc5cdr-md-0.2.4\n"
     ]
    }
   ],
   "source": [
    "!pip install negspacy\n",
    "!pip install scispacy\n",
    "!pip install https://s3-us-west-2.amazonaws.com/ai2-s2-scispacy/releases/v0.2.4/en_ner_bc5cdr_md-0.2.4.tar.gz"
   ]
  },
  {
   "cell_type": "code",
   "execution_count": 8,
   "metadata": {
    "_cell_guid": "79c7e3d0-c299-4dcb-8224-4455121ee9b0",
    "_uuid": "d629ff2d2480ee46fbb7e2d37f6b5fab8052498a"
   },
   "outputs": [],
   "source": [
    "import spacy\n",
    "import scispacy\n",
    "from negspacy.negation import Negex\n",
    "import pandas as pd\n",
    "\n",
    "nlp = spacy.load(\"en_ner_bc5cdr_md\")\n",
    "negex = Negex(nlp, ent_types=[\"CHEMICAL\"],\\\n",
    "              termination=[\"but\", \"however\", \"nevertheless\", \"except\"],\\\n",
    "              chunk_prefix = [\"no\"])\n",
    "nlp.add_pipe(negex, last=True)"
   ]
  },
  {
   "cell_type": "code",
   "execution_count": 11,
   "metadata": {},
   "outputs": [
    {
     "name": "stdout",
     "output_type": "stream",
     "text": [
      "<bound method Negex.get_patterns of <negspacy.negation.Negex object at 0x7f3900503be0>>\n"
     ]
    }
   ],
   "source": [
    "#View patterns in use\n",
    "print(negex.get_patterns)"
   ]
  },
  {
   "cell_type": "code",
   "execution_count": 12,
   "metadata": {},
   "outputs": [],
   "source": [
    "df = pd.read_csv(\"/kaggle/input/drugvisdata/DrugVisData.csv\")\n",
    "output = df\n",
    "\n",
    "# Turn all our sentences into parsed spaCy documents\n",
    "docs = [nlp(str(sentence)) for sentence in df[\"sentence\"].to_list()]"
   ]
  },
  {
   "cell_type": "code",
   "execution_count": 17,
   "metadata": {},
   "outputs": [
    {
     "name": "stdout",
     "output_type": "stream",
     "text": [
      "Progesterone False\n"
     ]
    }
   ],
   "source": [
    "#Test 1\n",
    "doc = nlp(\"Progesterone should not be preferred for treatment\")\n",
    "for e in doc.ents:\n",
    "        print(e.text, e._.negex)"
   ]
  },
  {
   "cell_type": "code",
   "execution_count": 26,
   "metadata": {},
   "outputs": [
    {
     "name": "stdout",
     "output_type": "stream",
     "text": [
      "Progesterone False\n"
     ]
    }
   ],
   "source": [
    "#Test 2\n",
    "doc = nlp(\"Progesterone is ineffective for treatment\")\n",
    "for e in doc.ents:\n",
    "        print(e.text, e._.negex)"
   ]
  },
  {
   "cell_type": "code",
   "execution_count": 16,
   "metadata": {},
   "outputs": [
    {
     "name": "stdout",
     "output_type": "stream",
     "text": [
      "Progesterone True\n"
     ]
    }
   ],
   "source": [
    "#Test 3\n",
    "doc = nlp(\"This compound is not Progesterone\")\n",
    "for e in doc.ents:\n",
    "        print(e.text, e._.negex)"
   ]
  },
  {
   "cell_type": "code",
   "execution_count": null,
   "metadata": {},
   "outputs": [],
   "source": [
    "#Test 2\n",
    "doc = nlp(\"Progesterone is not ineffective for treatment\")\n",
    "for e in doc.ents:\n",
    "        print(e.text, e._.negex)"
   ]
  },
  {
   "cell_type": "code",
   "execution_count": 24,
   "metadata": {},
   "outputs": [],
   "source": [
    "for i in range(len(df.index)):\n",
    "    ent = [e.text for e in docs[i].ents if e._.negex is True]\n",
    "    output.loc[i,'neg_entities'] = ','.join(ent)\n",
    "    if output.loc[i,'neg_entities'] != '' and output.loc[i,'drug'] in output.loc[i,'neg_entities']:\n",
    "        output.loc[i,'Is_Negated'] = 1\n",
    "    else:\n",
    "        output.loc[i,'Is_Negated'] = 0"
   ]
  },
  {
   "cell_type": "code",
   "execution_count": 25,
   "metadata": {},
   "outputs": [],
   "source": [
    "output.to_csv('DrugVisdata_Negation_Output_Negspacy.csv',index=False)"
   ]
  },
  {
   "cell_type": "markdown",
   "metadata": {},
   "source": [
    "#### Pros:\n",
    "- quick and easy\n",
    "- could potentially deal with contrastive conjections (but, however, etc.)\n",
    "- can extract negation in context to each chemical\n",
    "\n",
    "#### Cons:\n",
    "- words like \"ineffective\" aren't recognized as a negative token\n",
    "- rules need to be manually designed when negation is in context of a VERB Eg. not recommended\n",
    "- can be complex to design rules in cases such as negation is understood only with prior medical knowledge\n",
    "- false positives due to double negation such as \"not ineffective\" or \"not useless\""
   ]
  }
 ],
 "metadata": {
  "kernelspec": {
   "display_name": "Python 3",
   "language": "python",
   "name": "python3"
  },
  "language_info": {
   "codemirror_mode": {
    "name": "ipython",
    "version": 3
   },
   "file_extension": ".py",
   "mimetype": "text/x-python",
   "name": "python",
   "nbconvert_exporter": "python",
   "pygments_lexer": "ipython3",
   "version": "3.7.6"
  }
 },
 "nbformat": 4,
 "nbformat_minor": 4
}
